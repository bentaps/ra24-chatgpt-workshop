{
  "nbformat": 4,
  "nbformat_minor": 0,
  "metadata": {
    "colab": {
      "provenance": [],
      "collapsed_sections": [
        "kujP3oQ1mx5M"
      ]
    },
    "kernelspec": {
      "name": "python3",
      "display_name": "Python 3"
    },
    "language_info": {
      "name": "python"
    }
  },
  "cells": [
    {
      "cell_type": "markdown",
      "source": [
        "# **Reganalyse-2024 workshop**: Intro to ChatGPT and prompt engineering for coding\n",
        "\n",
        "link: tinyurl.com/ra24-chatgpt-workshop\n",
        "\n",
        "Welcome to the  workshop task!\n",
        "\n",
        "## About the data\n",
        "The data contains information about the passengers aboard the Titanic.\n",
        "\n",
        "Note that the first column `Survived` is what we are trying to predict.\n",
        "\n",
        "## Your task\n",
        "\n",
        "Your task is to explore the dataset and train a model to predict  **only (mostly) using ChatGPT generated code**! See the below examples for inspiration.\n",
        "\n",
        "Don't worry if you don't finish all of this. The main takeaway will be to explore the use of ChatGPT prompts when coding.\n",
        "\n",
        "**Warning**: in real-life you wouldn't rely this much on ChatGPT. You should always verify and test the code it produces to makesure it is accurate and safe to run. In this task, the goal is to become familiar with the capablities of ChatGPT.\n",
        "\n",
        "---\n"
      ],
      "metadata": {
        "id": "cwAGuKxTm0-9"
      }
    },
    {
      "cell_type": "markdown",
      "source": [
        "# Download the data\n",
        "Run the following cell to download the titanic data set as a CSV file to the same directory that this notebook is located."
      ],
      "metadata": {
        "id": "kujP3oQ1mx5M"
      }
    },
    {
      "cell_type": "code",
      "source": [
        "import requests\n",
        "\n",
        "\n",
        "URL = 'https://web.stanford.edu/class/archive/cs/cs109/cs109.1166/stuff/titanic.csv'\n",
        "FILENAME = 'titanic.csv'\n",
        "\n",
        "def download_titanic_dataset(url, filename):\n",
        "    response = requests.get(url)\n",
        "    response.raise_for_status()\n",
        "    with open(filename, 'wb') as f:\n",
        "        f.write(response.content)\n",
        "    print(f\"Downloaded '{filename}' successfully.\")\n",
        "\n",
        "download_titanic_dataset(URL, FILENAME)"
      ],
      "metadata": {
        "colab": {
          "base_uri": "https://localhost:8080/"
        },
        "id": "uTBA1T_xk-06",
        "outputId": "0d26af77-78b4-4ceb-f3fc-d3d269b15096"
      },
      "execution_count": 1,
      "outputs": [
        {
          "output_type": "stream",
          "name": "stdout",
          "text": [
            "Downloaded 'titanic.csv' successfully.\n"
          ]
        }
      ]
    },
    {
      "cell_type": "markdown",
      "source": [
        "The following cell saves the csv file as a string with the name `data` and prints the first five rows.\n",
        "\n",
        "This is just to check that it is working you can delete this cell if you don't want your data saved as a string, for example."
      ],
      "metadata": {
        "id": "qR68BJIyoryy"
      }
    },
    {
      "cell_type": "code",
      "source": [
        "# Print first 5 rows of the csv file, including the header file.\n",
        "with open(FILENAME, 'r') as file:\n",
        "    data: str = file.read()\n",
        "for row in data.split('\\n')[:5]:\n",
        "  print(row)"
      ],
      "metadata": {
        "id": "ACLFSjd3mEoP",
        "colab": {
          "base_uri": "https://localhost:8080/"
        },
        "outputId": "9d798576-d9f3-4dd5-903c-ecb3b06d8a97"
      },
      "execution_count": 2,
      "outputs": [
        {
          "output_type": "stream",
          "name": "stdout",
          "text": [
            "Survived,Pclass,Name,Sex,Age,Siblings/Spouses Aboard,Parents/Children Aboard,Fare\n",
            "0,3,Mr. Owen Harris Braund,male,22,1,0,7.25\n",
            "1,1,Mrs. John Bradley (Florence Briggs Thayer) Cumings,female,38,1,0,71.2833\n",
            "1,3,Miss. Laina Heikkinen,female,26,0,0,7.925\n",
            "1,1,Mrs. Jacques Heath (Lily May Peel) Futrelle,female,35,1,0,53.1\n"
          ]
        }
      ]
    },
    {
      "cell_type": "markdown",
      "source": [
        "#Start ChatGPTing!\n",
        "\n",
        "Expand the below cell for examples of prompts you could write."
      ],
      "metadata": {
        "id": "jdxmNYDqrZ82"
      }
    },
    {
      "cell_type": "markdown",
      "source": [
        "Here are some examples for inspiration.\n",
        "### **Getting started**:\n",
        "\n",
        "Give some context:\n",
        "> Hi ChatGPT! I have a file called titanic.csv containing data about passengers of the titanic. The header row is \"Survived,Pclass,Name,Sex,Age,Siblings/Spouses Aboard,Parents/Children Aboard,Fare\" and the first row of data is \"0,3,Mr. Owen Harris Braund,male,22,1,0,7.25\". Please be concise with your answers.\n",
        "\n",
        "Feeling stuck? Brainstorm ideas:\n",
        "> My task is to predict which passengers will survive. I am new to data science and am a bit lost as to where to start. Can you please outline a basic approach to this problem?  \n",
        "\n",
        "Maybe you already know what to do, but haven't memorised the all the necessary `scikit-learn` or `pandas` functions.\n",
        "> Please load this file as a pandas dataframe, remove the name column.\n",
        "\n",
        "### **Feeling lucky? Try solving it in one go**:\n",
        "\n",
        "> Here are the contents a data set that is saved as a csv file. I want to train a classifier using scikit-learn to predict the target variable `Survived`. << PASTE THE DATA SET HERE >>\n",
        "\n",
        "You might end up having to break down the problem into steps to be more specific. Not sure how to do that? Go back to 2 and create new prompts based on ChatGPTs response.\n",
        "\n",
        "\n",
        "### **Do you think you're finished?**\n",
        "You're never finished. Maybe your code could be more readable? Ask for refactoring suggestions!\n",
        "\n",
        "Have you followed standard software-design best practices? Not sure what that is? Ask!\n",
        "\n",
        "> Pretend you're a meticulous software engineer who is reviewing a pull request. Here is the code: << PASTE YOUR CODE HERE >>\n",
        "\n",
        "\n",
        "### **Are you thinking of using XGBoost?**\n",
        "... Or another mysterious ML model that happens to work sometimes. Can you explain how XGBoost works? Why is it often used for tabular, categorical data set? Or do you use it as a magic black box that only the math nerds know about?\n",
        "\n",
        "> Please explain to me how and why XGBoost works for this dataset. Explain it in simple terms. I have a limited understanding of math and statistics. Use examples to help me build my intuition.\n",
        "\n",
        "> Explain it to me like I am 15 years old.\n",
        "\n",
        "\n",
        "### **Try the same question multiple times using different prompting styles.**\n",
        "\n",
        "And tell me if you got better answers using certain prompting techniques!\n",
        "\n",
        "> Please visualise the distribution of numerical data in the dataset.\n",
        "\n",
        "vs.\n",
        "\n",
        "> Please visualise the distribution of numerical data in the dataset. This is extremely important for my career so it is important that you ensure the code is well-written, readable and free of any errors.\n",
        "\n",
        "vs.\n",
        "\n",
        "> Please visualise the distribution of numerical data in the dataset. Pretend that your a machine learning expert and google software developer.\n"
      ],
      "metadata": {
        "id": "PjlJro8LBsad"
      }
    }
  ]
}